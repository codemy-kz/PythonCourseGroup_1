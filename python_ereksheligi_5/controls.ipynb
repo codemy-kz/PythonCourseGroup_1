{
 "metadata": {
  "language_info": {
   "codemirror_mode": {
    "name": "ipython",
    "version": 3
   },
   "file_extension": ".py",
   "mimetype": "text/x-python",
   "name": "python",
   "nbconvert_exporter": "python",
   "pygments_lexer": "ipython3",
   "version": "3.8.5"
  },
  "orig_nbformat": 4,
  "kernelspec": {
   "name": "python3",
   "display_name": "Python 3.8.5 64-bit ('myenv_python': venv)"
  },
  "interpreter": {
   "hash": "253ff8e8fb49028591bec1984cd54ac1138afea9b7d10a5a9a19983081b0b0c4"
  }
 },
 "nbformat": 4,
 "nbformat_minor": 2,
 "cells": [
  {
   "cell_type": "code",
   "execution_count": 1,
   "metadata": {},
   "outputs": [
    {
     "output_type": "stream",
     "name": "stdout",
     "text": [
      "If орындалды\n"
     ]
    }
   ],
   "source": [
    "if True:\n",
    "    print(\"If орындалды\")"
   ]
  },
  {
   "cell_type": "code",
   "execution_count": 2,
   "metadata": {},
   "outputs": [
    {
     "output_type": "stream",
     "name": "stdout",
     "text": [
      "Hello\nSalem\nHolo\nWelcome\n"
     ]
    }
   ],
   "source": [
    "if True:\n",
    "    print(\"Hello\")\n",
    "    print(\"Salem\")\n",
    "    print(\"Holo\")\n",
    "print(\"Welcome\")"
   ]
  },
  {
   "cell_type": "code",
   "execution_count": 3,
   "metadata": {},
   "outputs": [
    {
     "output_type": "stream",
     "name": "stdout",
     "text": [
      "Welcome\n"
     ]
    }
   ],
   "source": [
    "if False:\n",
    "    print(\"Hello\")\n",
    "    print(\"Salem\")\n",
    "    print(\"Holo\")\n",
    "print(\"Welcome\")"
   ]
  },
  {
   "cell_type": "code",
   "execution_count": 4,
   "metadata": {},
   "outputs": [
    {
     "output_type": "stream",
     "name": "stdout",
     "text": [
      "If орындалды\n"
     ]
    }
   ],
   "source": [
    "a = True\n",
    "if a:\n",
    "    print(\"If орындалды\")"
   ]
  },
  {
   "cell_type": "code",
   "execution_count": 5,
   "metadata": {},
   "outputs": [],
   "source": [
    "b = False\n",
    "if b:\n",
    "    print(\"If орындалды\")"
   ]
  },
  {
   "cell_type": "code",
   "execution_count": 6,
   "metadata": {},
   "outputs": [
    {
     "output_type": "stream",
     "name": "stdout",
     "text": [
      "If орындалды\n"
     ]
    }
   ],
   "source": [
    "if 3 > 2:\n",
    "    print(\"If орындалды\")"
   ]
  },
  {
   "cell_type": "code",
   "execution_count": 7,
   "metadata": {},
   "outputs": [
    {
     "output_type": "stream",
     "name": "stdout",
     "text": [
      "If орындалды\n"
     ]
    }
   ],
   "source": [
    "a = 3 > 2\n",
    "if a:\n",
    "    print(\"If орындалды\")"
   ]
  },
  {
   "cell_type": "code",
   "execution_count": 8,
   "metadata": {},
   "outputs": [
    {
     "output_type": "stream",
     "name": "stdout",
     "text": [
      "If орындалды\n"
     ]
    }
   ],
   "source": [
    "if 3:\n",
    "    print(\"If орындалды\")"
   ]
  },
  {
   "cell_type": "code",
   "execution_count": 9,
   "metadata": {},
   "outputs": [
    {
     "output_type": "stream",
     "name": "stdout",
     "text": [
      "If орындалды\n"
     ]
    }
   ],
   "source": [
    "if bool(3):\n",
    "    print(\"If орындалды\")"
   ]
  },
  {
   "cell_type": "code",
   "execution_count": 10,
   "metadata": {},
   "outputs": [],
   "source": [
    "if 0:\n",
    "    print(\"If орындалды\")"
   ]
  },
  {
   "cell_type": "code",
   "execution_count": 11,
   "metadata": {},
   "outputs": [
    {
     "output_type": "stream",
     "name": "stdout",
     "text": [
      "If орындалды\n"
     ]
    }
   ],
   "source": [
    "if 'salem':\n",
    "    print(\"If орындалды\")"
   ]
  },
  {
   "cell_type": "code",
   "execution_count": 12,
   "metadata": {},
   "outputs": [
    {
     "output_type": "stream",
     "name": "stdout",
     "text": [
      "if денесі орындалды\n"
     ]
    }
   ],
   "source": [
    "a  = [11,2,3]\n",
    "if a:\n",
    "    print(\"if денесі орындалды\")"
   ]
  },
  {
   "cell_type": "code",
   "execution_count": 13,
   "metadata": {},
   "outputs": [
    {
     "output_type": "stream",
     "name": "stdout",
     "text": [
      "B+\n"
     ]
    }
   ],
   "source": [
    "grade = 85\n",
    "if grade >= 95:\n",
    "    print(\"A\")\n",
    "elif 90 <= grade < 95: \n",
    "    print(\"A-\")\n",
    "elif 85 <= grade < 90:\n",
    "    print(\"B+\")\n",
    "elif 80 <= grade < 85:\n",
    "    print(\"B\")\n",
    "else:\n",
    "    print(\"Сіздің бағаныз не то\") "
   ]
  },
  {
   "cell_type": "code",
   "execution_count": 15,
   "metadata": {},
   "outputs": [
    {
     "output_type": "stream",
     "name": "stdout",
     "text": [
      "Hello\nHello\nHello\nHello\nHello\nHello\nHello\nHello\nHello\nHello\n"
     ]
    }
   ],
   "source": [
    "i = 0\n",
    "while i < 10:\n",
    "    print(\"Hello\")\n",
    "    i += 1"
   ]
  },
  {
   "cell_type": "code",
   "execution_count": 16,
   "metadata": {},
   "outputs": [
    {
     "output_type": "stream",
     "name": "stdout",
     "text": [
      "Salem\nSalem\nSalem\nSalem\nSalem\nSalem\nSalem\nSalem\nSalem\nSalem\nwhile-else орындалды\nKelesi operatorlar\n"
     ]
    }
   ],
   "source": [
    "i = 0\n",
    "while i < 10:\n",
    "    print(\"Salem\")\n",
    "    i += 1\n",
    "else:\n",
    "    print(\"while-else орындалды\")\n",
    "\n",
    "print(\"Kelesi operatorlar\")"
   ]
  },
  {
   "source": [
    "do{\n",
    "    денесі\n",
    "}while(шарт)"
   ],
   "cell_type": "markdown",
   "metadata": {}
  },
  {
   "source": [
    "while True:\n",
    "    денесі\n",
    "    if шарт:\n",
    "        break\n",
    "    денесінің қалған бөліктері\n",
    "        "
   ],
   "cell_type": "markdown",
   "metadata": {}
  },
  {
   "source": [
    "\"\"\"\n",
    "***\n",
    "***\n",
    "***\n",
    "\"\"\""
   ],
   "cell_type": "code",
   "metadata": {},
   "execution_count": 17,
   "outputs": [
    {
     "output_type": "execute_result",
     "data": {
      "text/plain": [
       "'\\n***\\n***\\n***\\n'"
      ]
     },
     "metadata": {},
     "execution_count": 17
    }
   ]
  },
  {
   "cell_type": "code",
   "execution_count": 18,
   "metadata": {},
   "outputs": [
    {
     "output_type": "stream",
     "name": "stdout",
     "text": [
      "* * * "
     ]
    }
   ],
   "source": [
    "i = 1\n",
    "while i <= 3:\n",
    "    print(\"*\", end = \" \")\n",
    "    i += 1\n",
    "    "
   ]
  },
  {
   "cell_type": "code",
   "execution_count": 19,
   "metadata": {},
   "outputs": [
    {
     "output_type": "stream",
     "name": "stdout",
     "text": [
      "* * * \n* * * \n* * * \n"
     ]
    }
   ],
   "source": [
    "i = 1\n",
    "while i <= 3:\n",
    "    j = 1\n",
    "    while j <= 3:\n",
    "        print(\"*\", end = \" \")\n",
    "        j += 1\n",
    "    print()\n",
    "    i += 1\n",
    "    "
   ]
  },
  {
   "cell_type": "code",
   "execution_count": 23,
   "metadata": {},
   "outputs": [
    {
     "output_type": "stream",
     "name": "stdout",
     "text": [
      "* * * \n* * * \n* * * \n"
     ]
    }
   ],
   "source": [
    "i = 1\n",
    "while i <= 3:\n",
    "    j = 1\n",
    "    while j <= 3:\n",
    "        print(\"*\", end = \" \")\n",
    "        j += 1\n",
    "    print()\n",
    "    i += 1\n",
    "    "
   ]
  },
  {
   "cell_type": "code",
   "execution_count": 24,
   "metadata": {},
   "outputs": [
    {
     "output_type": "stream",
     "name": "stdout",
     "text": [
      "* * * * * * * \n* * * * * * * \n* * * * * * * \n* * * * * * * \n* * * * * * * \n* * * * * * * \n* * * * * * * \n"
     ]
    }
   ],
   "source": [
    "a = 7\n",
    "i = 1\n",
    "while i <= a:\n",
    "    j = 1\n",
    "    while j <= a:\n",
    "        print(\"*\", end = \" \")\n",
    "        j += 1\n",
    "    print()\n",
    "    i += 1\n",
    "        "
   ]
  },
  {
   "cell_type": "code",
   "execution_count": 25,
   "metadata": {},
   "outputs": [
    {
     "output_type": "stream",
     "name": "stdout",
     "text": [
      "<class 'str'>\n"
     ]
    }
   ],
   "source": [
    "a = input(\"Санды енгізініз: \")\n",
    "print(type(a))"
   ]
  },
  {
   "cell_type": "code",
   "execution_count": 26,
   "metadata": {},
   "outputs": [
    {
     "output_type": "stream",
     "name": "stdout",
     "text": [
      "* * * * * \n* * * * * \n* * * * * \n* * * * * \n* * * * * \n"
     ]
    }
   ],
   "source": [
    "a = input(\"Санды енгізініз: \")\n",
    "a = int(a)\n",
    "\n",
    "i = 1\n",
    "while i <= a:\n",
    "    j = 1\n",
    "    while j <= a:\n",
    "        print(\"*\", end = \" \")\n",
    "        j += 1\n",
    "    print()\n",
    "    i += 1\n",
    "        "
   ]
  },
  {
   "cell_type": "code",
   "execution_count": 27,
   "metadata": {},
   "outputs": [
    {
     "output_type": "stream",
     "name": "stdout",
     "text": [
      "* * * * * * * * * * \n* * * * * * * * * * \n* * * * * * * * * * \n* * * * * * * * * * \n* * * * * * * * * * \n* * * * * * * * * * \n* * * * * * * * * * \n* * * * * * * * * * \n* * * * * * * * * * \n* * * * * * * * * * \n"
     ]
    }
   ],
   "source": [
    "a = int(input(\"Санды енгізініз: \"))\n",
    "\n",
    "\n",
    "i = 1\n",
    "while i <= a:\n",
    "    j = 1\n",
    "    while j <= a:\n",
    "        print(\"*\", end = \" \")\n",
    "        j += 1\n",
    "    print()\n",
    "    i += 1\n",
    "        "
   ]
  },
  {
   "cell_type": "code",
   "execution_count": 28,
   "metadata": {},
   "outputs": [
    {
     "output_type": "stream",
     "name": "stdout",
     "text": [
      "1\n2\n3\n4\n5\n"
     ]
    }
   ],
   "source": [
    "for i in [1,2,3,4,5]:\n",
    "    print(i)"
   ]
  },
  {
   "cell_type": "code",
   "execution_count": 29,
   "metadata": {},
   "outputs": [
    {
     "output_type": "stream",
     "name": "stdout",
     "text": [
      "s p a m "
     ]
    }
   ],
   "source": [
    "for i in \"SPAM\":\n",
    "    print(i.lower(), end = ' ')"
   ]
  },
  {
   "cell_type": "code",
   "execution_count": 30,
   "metadata": {},
   "outputs": [
    {
     "output_type": "stream",
     "name": "stdout",
     "text": [
      "sum = 12\n"
     ]
    }
   ],
   "source": [
    "sum = 0\n",
    "for i in (3,4,5):\n",
    "    sum += i\n",
    "\n",
    "print(f\"sum = {sum}\")\n"
   ]
  },
  {
   "cell_type": "code",
   "execution_count": 31,
   "metadata": {},
   "outputs": [
    {
     "output_type": "stream",
     "name": "stdout",
     "text": [
      "sum = 12\n"
     ]
    }
   ],
   "source": [
    "sum = 0\n",
    "a = (3,4,5)\n",
    "for i in a:\n",
    "    sum += i\n",
    "    \n",
    "print(f\"sum = {sum}\")"
   ]
  },
  {
   "cell_type": "code",
   "execution_count": 34,
   "metadata": {},
   "outputs": [
    {
     "output_type": "stream",
     "name": "stdout",
     "text": [
      "sum = 12 ffdff dsdss\n"
     ]
    }
   ],
   "source": [
    "print(\"sum = {0}\".format(sum), \"ffdff\", \"dsdss\")"
   ]
  },
  {
   "cell_type": "code",
   "execution_count": 35,
   "metadata": {},
   "outputs": [
    {
     "output_type": "execute_result",
     "data": {
      "text/plain": [
       "range(0, 5)"
      ]
     },
     "metadata": {},
     "execution_count": 35
    }
   ],
   "source": [
    "range(5)"
   ]
  },
  {
   "cell_type": "code",
   "execution_count": 36,
   "metadata": {},
   "outputs": [
    {
     "output_type": "execute_result",
     "data": {
      "text/plain": [
       "[0, 1, 2, 3, 4]"
      ]
     },
     "metadata": {},
     "execution_count": 36
    }
   ],
   "source": [
    "list(range(0,5))"
   ]
  },
  {
   "cell_type": "code",
   "execution_count": 37,
   "metadata": {},
   "outputs": [
    {
     "output_type": "stream",
     "name": "stdout",
     "text": [
      "sum = 45\n"
     ]
    }
   ],
   "source": [
    "sum = 0\n",
    "for i in range(10):\n",
    "    sum += i\n",
    "\n",
    "print(f\"sum = {sum}\")"
   ]
  },
  {
   "cell_type": "code",
   "execution_count": 38,
   "metadata": {},
   "outputs": [
    {
     "output_type": "stream",
     "name": "stdout",
     "text": [
      "sum = 35\n"
     ]
    }
   ],
   "source": [
    "sum = 0\n",
    "for i in range(5, 10):\n",
    "    sum += i\n",
    "\n",
    "print(f\"sum = {sum}\")"
   ]
  },
  {
   "cell_type": "code",
   "execution_count": 39,
   "metadata": {},
   "outputs": [
    {
     "output_type": "execute_result",
     "data": {
      "text/plain": [
       "[3, 6, 9, 12, 15, 18]"
      ]
     },
     "metadata": {},
     "execution_count": 39
    }
   ],
   "source": [
    "list(range(3, 20, 3))"
   ]
  },
  {
   "cell_type": "code",
   "execution_count": 40,
   "metadata": {},
   "outputs": [
    {
     "output_type": "stream",
     "name": "stdout",
     "text": [
      "salem\nsalem\nsalem\nsalem\nsalem\n"
     ]
    }
   ],
   "source": [
    "for _ in range(5):\n",
    "    print(\"salem\")"
   ]
  },
  {
   "cell_type": "code",
   "execution_count": 42,
   "metadata": {},
   "outputs": [
    {
     "output_type": "stream",
     "name": "stdout",
     "text": [
      "1 --> 1\n2 --> 3\n3 --> 6\n4 --> 10\n5 --> 15\n6 --> 21\n7 --> 28\n8 --> 36\n9 --> 45\n"
     ]
    }
   ],
   "source": [
    "i = 1\n",
    "sum = 0\n",
    "while i < 10:\n",
    "    sum += i\n",
    "    print(f\"{i} --> {sum}\")\n",
    "    i += 1"
   ]
  },
  {
   "cell_type": "code",
   "execution_count": 44,
   "metadata": {},
   "outputs": [
    {
     "output_type": "stream",
     "name": "stdout",
     "text": [
      "1 --> 1\n2 --> 3\n3 --> 6\n4 --> 10\n5 --> 15\n6 --> 21\n7 --> 28\n8 --> 36\n9 --> 45\n"
     ]
    }
   ],
   "source": [
    "sum = 0\n",
    "for i in range(1,10):\n",
    "    sum += i\n",
    "    print(f\"{i} --> {sum}\")"
   ]
  },
  {
   "cell_type": "code",
   "execution_count": 45,
   "metadata": {},
   "outputs": [
    {
     "output_type": "stream",
     "name": "stdout",
     "text": [
      "for циклі дұрыс аяқталды\nsum = 45\n"
     ]
    }
   ],
   "source": [
    "sum = 0\n",
    "for i in range(10):\n",
    "    sum += i\n",
    "else:\n",
    "    print(\"for циклі дұрыс аяқталды\")\n",
    "print(f\"sum = {sum}\")\n"
   ]
  },
  {
   "cell_type": "code",
   "execution_count": 46,
   "metadata": {},
   "outputs": [
    {
     "output_type": "stream",
     "name": "stdout",
     "text": [
      "sum = 15\n"
     ]
    }
   ],
   "source": [
    "sum = 0\n",
    "for i in range(10):\n",
    "    sum += i\n",
    "    if i == 5:\n",
    "        break\n",
    "else:\n",
    "    print(\"for циклі дұрыс аяқталды\")\n",
    "print(f\"sum = {sum}\")\n"
   ]
  },
  {
   "cell_type": "code",
   "execution_count": 47,
   "metadata": {},
   "outputs": [
    {
     "output_type": "stream",
     "name": "stdout",
     "text": [
      "1 --> 1\n2 --> 3\n3 --> 6\n4 --> 10\n6 --> 21\n7 --> 28\n8 --> 36\n9 --> 45\nfor циклі орындалды\n"
     ]
    }
   ],
   "source": [
    "sum = 0\n",
    "for i in range(1,10):\n",
    "    sum += i\n",
    "    if i == 5:\n",
    "        continue\n",
    "    print(f\"{i} --> {sum}\")\n",
    "else:\n",
    "    print(\"for циклі орындалды\")"
   ]
  },
  {
   "cell_type": "code",
   "execution_count": 48,
   "metadata": {},
   "outputs": [
    {
     "output_type": "error",
     "ename": "ZeroDivisionError",
     "evalue": "division by zero",
     "traceback": [
      "\u001b[0;31m---------------------------------------------------------------------------\u001b[0m",
      "\u001b[0;31mZeroDivisionError\u001b[0m                         Traceback (most recent call last)",
      "\u001b[0;32m<ipython-input-48-db36f5ada519>\u001b[0m in \u001b[0;36m<module>\u001b[0;34m\u001b[0m\n\u001b[0;32m----> 1\u001b[0;31m \u001b[0;36m34\u001b[0m\u001b[0;34m/\u001b[0m\u001b[0;36m0\u001b[0m\u001b[0;34m\u001b[0m\u001b[0;34m\u001b[0m\u001b[0m\n\u001b[0m",
      "\u001b[0;31mZeroDivisionError\u001b[0m: division by zero"
     ]
    }
   ],
   "source": [
    "34/0\n"
   ]
  },
  {
   "cell_type": "code",
   "execution_count": 49,
   "metadata": {},
   "outputs": [],
   "source": [
    "try:\n",
    "    34/2\n",
    "except ZeroDivisionError:\n",
    "    print(\"0-ге бөлу амалы орындалды\")\n"
   ]
  },
  {
   "cell_type": "code",
   "execution_count": 50,
   "metadata": {},
   "outputs": [
    {
     "output_type": "stream",
     "name": "stdout",
     "text": [
      "0-ге бөлу амалы орындалды\n"
     ]
    }
   ],
   "source": [
    "try:\n",
    "    34/0\n",
    "except ZeroDivisionError:\n",
    "    print(\"0-ге бөлу амалы орындалды\")\n"
   ]
  },
  {
   "cell_type": "code",
   "execution_count": 51,
   "metadata": {},
   "outputs": [
    {
     "output_type": "stream",
     "name": "stdout",
     "text": [
      "0-ге бөлу амалы орындалды\ndivision by zero\n"
     ]
    }
   ],
   "source": [
    "try:\n",
    "    34/0\n",
    "except ZeroDivisionError as var1:\n",
    "    print(\"0-ге бөлу амалы орындалды\")\n",
    "    print(var1)\n"
   ]
  },
  {
   "cell_type": "code",
   "execution_count": 52,
   "metadata": {},
   "outputs": [
    {
     "output_type": "stream",
     "name": "stdout",
     "text": [
      "0-ге бөлу амалы орындалды\ndivision by zero\nБұл міндетті түрде орындалады\n"
     ]
    }
   ],
   "source": [
    "try:\n",
    "    34/0\n",
    "except ZeroDivisionError as var1:\n",
    "    print(\"0-ге бөлу амалы орындалды\")\n",
    "    print(var1)\n",
    "finally:\n",
    "    print(\"Бұл міндетті түрде орындалады\")"
   ]
  },
  {
   "cell_type": "code",
   "execution_count": 53,
   "metadata": {},
   "outputs": [
    {
     "output_type": "stream",
     "name": "stdout",
     "text": [
      "Бұл міндетті түрде орындалады\n"
     ]
    }
   ],
   "source": [
    "try:\n",
    "    34/2\n",
    "except ZeroDivisionError as var1:\n",
    "    print(\"0-ге бөлу амалы орындалды\")\n",
    "    print(var1)\n",
    "finally:\n",
    "    print(\"Бұл міндетті түрде орындалады\")"
   ]
  },
  {
   "cell_type": "code",
   "execution_count": 54,
   "metadata": {},
   "outputs": [
    {
     "output_type": "stream",
     "name": "stdout",
     "text": [
      "Бұл міндетті түрде орындалады\n"
     ]
    }
   ],
   "source": [
    "try:\n",
    "    a = 34/2\n",
    "    b = int(\"12\")\n",
    "except ZeroDivisionError as var1:\n",
    "    print(\"0-ге бөлу амалы орындалды\")\n",
    "    print(var1)\n",
    "except ValueError:\n",
    "    print(\"dsds\")\n",
    "except KeyError:\n",
    "    print(\"fdfd\")\n",
    "finally:\n",
    "    print(\"Бұл міндетті түрде орындалады\")"
   ]
  },
  {
   "cell_type": "code",
   "execution_count": 55,
   "metadata": {},
   "outputs": [
    {
     "output_type": "stream",
     "name": "stdout",
     "text": [
      "Санға айналдыруда қате кетті\nБұл міндетті түрде орындалады\n"
     ]
    }
   ],
   "source": [
    "try:\n",
    "    a = 34/2\n",
    "    b = int(\"fg\")\n",
    "except ZeroDivisionError as var1:\n",
    "    print(\"0-ге бөлу амалы орындалды\")\n",
    "    print(var1)\n",
    "except ValueError:\n",
    "    print(\"Санға айналдыруда қате кетті\")\n",
    "except KeyError:\n",
    "    print(\"fdfd\")\n",
    "finally:\n",
    "    print(\"Бұл міндетті түрде орындалады\")"
   ]
  },
  {
   "cell_type": "code",
   "execution_count": 58,
   "metadata": {},
   "outputs": [
    {
     "output_type": "stream",
     "name": "stdout",
     "text": [
      "Санға айналдыруда қате кетті\nБұл міндетті түрде орындалады\n"
     ]
    }
   ],
   "source": [
    "try:\n",
    "    a = 34/2\n",
    "    b = int(\"fg\")\n",
    "    print(\"Try денесі орындалмайды\")\n",
    "except ZeroDivisionError as var1:\n",
    "    print(\"0-ге бөлу амалы орындалды\")\n",
    "    print(var1)\n",
    "except ValueError:\n",
    "    print(\"Санға айналдыруда қате кетті\")\n",
    "except KeyError:\n",
    "    print(\"fdfd\")\n",
    "finally:\n",
    "    print(\"Бұл міндетті түрде орындалады\")"
   ]
  },
  {
   "cell_type": "code",
   "execution_count": 59,
   "metadata": {},
   "outputs": [
    {
     "output_type": "stream",
     "name": "stdout",
     "text": [
      "Бүтін сандарды енгізініз: \n",
      "Eu, koke, Бүтін сан енгіз!\n"
     ]
    }
   ],
   "source": [
    "sum = 0\n",
    "print(\"Бүтін сандарды енгізініз: \")\n",
    "while True:\n",
    "    try:\n",
    "        a = int(input())\n",
    "        if a == 0:\n",
    "            break\n",
    "        sum += a\n",
    "    except ValueError:\n",
    "        print(\"Eu, koke, Бүтін сан енгіз!\")\n",
    "        continue"
   ]
  },
  {
   "cell_type": "code",
   "execution_count": 60,
   "metadata": {},
   "outputs": [
    {
     "output_type": "stream",
     "name": "stdout",
     "text": [
      "Бүтін сандарды енгізініз: \n",
      "Бүтін санды енгізініз немесе аяқтау үшін n\n",
      "Бүтін санды енгізініз немесе аяқтау үшін n\n",
      "Бүтін санды енгізініз немесе аяқтау үшін n\n",
      "sum = 40\n"
     ]
    }
   ],
   "source": [
    "sum = 0\n",
    "print(\"Бүтін сандарды енгізініз: \")\n",
    "while True:\n",
    "    try:\n",
    "        a = input()\n",
    "        if a == 'n':\n",
    "            break\n",
    "        else:\n",
    "            a = int(a)\n",
    "        \n",
    "        print(\"Бүтін санды енгізініз немесе аяқтау үшін n\")\n",
    "    except ValueError:\n",
    "        print(\"Eu, koke, Бүтін сан енгіз!\")\n",
    "        continue\n",
    "    sum += a\n",
    "\n",
    "print(f'sum = {sum}')"
   ]
  },
  {
   "cell_type": "code",
   "execution_count": 62,
   "metadata": {},
   "outputs": [
    {
     "output_type": "stream",
     "name": "stdout",
     "text": [
      "Бүтін санды енгізініз немесе аяқтау үшін n\n",
      "Бүтін санды енгізініз немесе аяқтау үшін n\n",
      "Бүтін санды енгізініз немесе аяқтау үшін n\n",
      "Бүтін санды енгізініз немесе аяқтау үшін n\n",
      "Eu, koke, Бүтін сан енгіз!\n",
      "Бүтін санды енгізініз немесе аяқтау үшін n\n",
      "Eu, koke, Бүтін сан енгіз!\n",
      "Бүтін санды енгізініз немесе аяқтау үшін n\n",
      "Бүтін санды енгізініз немесе аяқтау үшін n\n",
      "sum = 51\n"
     ]
    }
   ],
   "source": [
    "sum = 0\n",
    "\n",
    "flRunning = True\n",
    "while flRunning:\n",
    "    print(\"Бүтін санды енгізініз немесе аяқтау үшін n\")\n",
    "    try:\n",
    "        a = input()\n",
    "        if a == 'n':\n",
    "            flRunning = False\n",
    "        else:\n",
    "            a = int(a)\n",
    "            sum += a   \n",
    "    except ValueError:\n",
    "        print(\"Eu, koke, Бүтін сан енгіз!\")\n",
    "        continue\n",
    "    \n",
    "\n",
    "print(f'sum = {sum}')"
   ]
  },
  {
   "source": [
    "# Функциялар"
   ],
   "cell_type": "markdown",
   "metadata": {}
  },
  {
   "cell_type": "code",
   "execution_count": 63,
   "metadata": {},
   "outputs": [],
   "source": [
    "def title():\n",
    "    print(\"Сәлем!\")\n",
    "    print(\"Бұл title функциясы\")\n"
   ]
  },
  {
   "cell_type": "code",
   "execution_count": 66,
   "metadata": {},
   "outputs": [
    {
     "output_type": "stream",
     "name": "stdout",
     "text": [
      "Сәлем!\nБұл title функциясы\n"
     ]
    }
   ],
   "source": [
    "title()"
   ]
  },
  {
   "cell_type": "code",
   "execution_count": 67,
   "metadata": {},
   "outputs": [
    {
     "output_type": "stream",
     "name": "stdout",
     "text": [
      "Программа басталды\nПрограмма келесі қатарды орындады\nСәлем!\nБұл title функциясы\nПрограмма функциядан кейінгі операторды орындады\n"
     ]
    }
   ],
   "source": [
    "print(\"Программа басталды\")\n",
    "print(\"Программа келесі қатарды орындады\")\n",
    "title()\n",
    "print(\"Программа функциядан кейінгі операторды орындады\")"
   ]
  },
  {
   "cell_type": "code",
   "execution_count": 77,
   "metadata": {},
   "outputs": [
    {
     "output_type": "stream",
     "name": "stdout",
     "text": [
      "локальді s = 12\nd = 15\ns = 90\nf = 0\n"
     ]
    }
   ],
   "source": [
    "f = 0\n",
    "def sum():\n",
    "    \n",
    "    f = 5\n",
    "    s = 0\n",
    "    s = 12\n",
    "    print(f\"локальді s = {s}\")\n",
    "    s = s + 3\n",
    "    return s\n",
    "s = 90\n",
    "d = sum()\n",
    "print(f\"d = {d}\")\n",
    "print(f's = {s}')\n",
    "print(f'f = {f}')\n"
   ]
  },
  {
   "cell_type": "code",
   "execution_count": 78,
   "metadata": {},
   "outputs": [
    {
     "output_type": "stream",
     "name": "stdout",
     "text": [
      "локальді s = 12\nd = 15\ns = 90\nf = 5\n"
     ]
    }
   ],
   "source": [
    "f = 0\n",
    "def sum():\n",
    "    global f    \n",
    "    f = 5\n",
    "    s = 0\n",
    "    s = 12\n",
    "    print(f\"локальді s = {s}\")\n",
    "    s = s + 3\n",
    "    return s\n",
    "s = 90\n",
    "d = sum()\n",
    "print(f\"d = {d}\")\n",
    "print(f's = {s}')\n",
    "print(f'f = {f}')\n"
   ]
  },
  {
   "cell_type": "code",
   "execution_count": 79,
   "metadata": {},
   "outputs": [],
   "source": [
    "def square(n):\n",
    "    n = n**2\n",
    "    return n"
   ]
  },
  {
   "cell_type": "code",
   "execution_count": 80,
   "metadata": {},
   "outputs": [
    {
     "output_type": "execute_result",
     "data": {
      "text/plain": [
       "9"
      ]
     },
     "metadata": {},
     "execution_count": 80
    }
   ],
   "source": [
    "square(3)"
   ]
  },
  {
   "cell_type": "code",
   "execution_count": 81,
   "metadata": {},
   "outputs": [],
   "source": [
    "def title(n):\n",
    "    n = n**2\n",
    "    return None"
   ]
  },
  {
   "cell_type": "code",
   "execution_count": 84,
   "metadata": {},
   "outputs": [
    {
     "output_type": "stream",
     "name": "stdout",
     "text": [
      "None\n"
     ]
    }
   ],
   "source": [
    "print(title(5))"
   ]
  },
  {
   "cell_type": "code",
   "execution_count": 87,
   "metadata": {},
   "outputs": [],
   "source": [
    "def square(n:int)->int:\n",
    "    n = n*2\n",
    "    return n"
   ]
  },
  {
   "cell_type": "code",
   "execution_count": 88,
   "metadata": {},
   "outputs": [
    {
     "output_type": "execute_result",
     "data": {
      "text/plain": [
       "10"
      ]
     },
     "metadata": {},
     "execution_count": 88
    }
   ],
   "source": [
    "square(5)"
   ]
  },
  {
   "cell_type": "code",
   "execution_count": 89,
   "metadata": {},
   "outputs": [
    {
     "output_type": "execute_result",
     "data": {
      "text/plain": [
       "'dd'"
      ]
     },
     "metadata": {},
     "execution_count": 89
    }
   ],
   "source": [
    "square('d')"
   ]
  },
  {
   "cell_type": "code",
   "execution_count": 90,
   "metadata": {},
   "outputs": [
    {
     "output_type": "execute_result",
     "data": {
      "text/plain": [
       "<function __main__.<lambda>(x)>"
      ]
     },
     "metadata": {},
     "execution_count": 90
    }
   ],
   "source": [
    "lambda x : x*2"
   ]
  },
  {
   "cell_type": "code",
   "execution_count": 91,
   "metadata": {},
   "outputs": [],
   "source": [
    "f = lambda x : x*2"
   ]
  },
  {
   "cell_type": "code",
   "execution_count": 92,
   "metadata": {},
   "outputs": [
    {
     "output_type": "execute_result",
     "data": {
      "text/plain": [
       "8"
      ]
     },
     "metadata": {},
     "execution_count": 92
    }
   ],
   "source": [
    "f(4)"
   ]
  },
  {
   "cell_type": "code",
   "execution_count": null,
   "metadata": {},
   "outputs": [],
   "source": []
  }
 ]
}