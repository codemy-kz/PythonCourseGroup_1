{
 "metadata": {
  "language_info": {
   "codemirror_mode": {
    "name": "ipython",
    "version": 3
   },
   "file_extension": ".py",
   "mimetype": "text/x-python",
   "name": "python",
   "nbconvert_exporter": "python",
   "pygments_lexer": "ipython3",
   "version": "3.8.5"
  },
  "orig_nbformat": 4,
  "kernelspec": {
   "name": "python3",
   "display_name": "Python 3.8.5 64-bit ('myenv_python': venv)"
  },
  "interpreter": {
   "hash": "253ff8e8fb49028591bec1984cd54ac1138afea9b7d10a5a9a19983081b0b0c4"
  }
 },
 "nbformat": 4,
 "nbformat_minor": 2,
 "cells": [
  {
   "source": [
    "# Try_Exception инструкциясы"
   ],
   "cell_type": "markdown",
   "metadata": {}
  },
  {
   "cell_type": "code",
   "execution_count": 1,
   "metadata": {},
   "outputs": [
    {
     "output_type": "error",
     "ename": "ZeroDivisionError",
     "evalue": "division by zero",
     "traceback": [
      "\u001b[0;31m---------------------------------------------------------------------------\u001b[0m",
      "\u001b[0;31mZeroDivisionError\u001b[0m                         Traceback (most recent call last)",
      "\u001b[0;32m<ipython-input-1-df982fec2812>\u001b[0m in \u001b[0;36m<module>\u001b[0;34m\u001b[0m\n\u001b[0;32m----> 1\u001b[0;31m \u001b[0;36m12\u001b[0m \u001b[0;34m/\u001b[0m \u001b[0;36m0\u001b[0m\u001b[0;34m\u001b[0m\u001b[0;34m\u001b[0m\u001b[0m\n\u001b[0m",
      "\u001b[0;31mZeroDivisionError\u001b[0m: division by zero"
     ]
    }
   ],
   "source": [
    "12 / 0"
   ]
  },
  {
   "cell_type": "code",
   "execution_count": 6,
   "metadata": {},
   "outputs": [
    {
     "output_type": "stream",
     "name": "stdout",
     "text": [
      "Келесі операторлар\ntry-exception-нан кейінгі операторлар\n"
     ]
    }
   ],
   "source": [
    "try:\n",
    "    12 / 4\n",
    "    print(\"Келесі операторлар\")\n",
    "except ZeroDivisionError:\n",
    "    print(\"Нөлге бөлуге болмайды\")\n",
    "\n",
    "print(\"try-exception-нан кейінгі операторлар\")"
   ]
  },
  {
   "cell_type": "code",
   "execution_count": 7,
   "metadata": {},
   "outputs": [
    {
     "output_type": "stream",
     "name": "stdout",
     "text": [
      "Нөлге бөлуге болмайды\ntry-exception-нан кейінгі операторлар\n"
     ]
    }
   ],
   "source": [
    "try:\n",
    "    12 / 0\n",
    "    print(\"Келесі операторлар\")\n",
    "except ZeroDivisionError:\n",
    "    print(\"Нөлге бөлуге болмайды\")\n",
    "\n",
    "print(\"try-exception-нан кейінгі операторлар\")"
   ]
  },
  {
   "cell_type": "code",
   "execution_count": 8,
   "metadata": {},
   "outputs": [
    {
     "output_type": "stream",
     "name": "stdout",
     "text": [
      "Нөлге бөлуге болмайды\ndivision by zero\ntry-exception-нан кейінгі операторлар\n"
     ]
    }
   ],
   "source": [
    "try:\n",
    "    12 / 0\n",
    "    print(\"Келесі операторлар\")\n",
    "except ZeroDivisionError as var1:\n",
    "    print(\"Нөлге бөлуге болмайды\")\n",
    "    print(var1)\n",
    "\n",
    "print(\"try-exception-нан кейінгі операторлар\")"
   ]
  },
  {
   "cell_type": "code",
   "execution_count": 9,
   "metadata": {},
   "outputs": [],
   "source": [
    "a = input(\"Сан енгізіңіз: \")"
   ]
  },
  {
   "cell_type": "code",
   "execution_count": 10,
   "metadata": {},
   "outputs": [
    {
     "output_type": "execute_result",
     "data": {
      "text/plain": [
       "str"
      ]
     },
     "metadata": {},
     "execution_count": 10
    }
   ],
   "source": [
    "type(a)"
   ]
  },
  {
   "cell_type": "code",
   "execution_count": 12,
   "metadata": {},
   "outputs": [
    {
     "output_type": "stream",
     "name": "stdout",
     "text": [
      "<class 'str'>\n"
     ]
    }
   ],
   "source": [
    "a = input(\"Сан енгізіңіз: \")\n",
    "print(type(a))"
   ]
  },
  {
   "cell_type": "code",
   "execution_count": 13,
   "metadata": {},
   "outputs": [],
   "source": [
    "b = int(32)"
   ]
  },
  {
   "cell_type": "code",
   "execution_count": 14,
   "metadata": {},
   "outputs": [
    {
     "output_type": "execute_result",
     "data": {
      "text/plain": [
       "int"
      ]
     },
     "metadata": {},
     "execution_count": 14
    }
   ],
   "source": [
    "type(b)"
   ]
  },
  {
   "cell_type": "code",
   "execution_count": 15,
   "metadata": {},
   "outputs": [
    {
     "output_type": "execute_result",
     "data": {
      "text/plain": [
       "int"
      ]
     },
     "metadata": {},
     "execution_count": 15
    }
   ],
   "source": [
    "b = int('32')\n",
    "type(b)"
   ]
  },
  {
   "cell_type": "code",
   "execution_count": 16,
   "metadata": {},
   "outputs": [],
   "source": [
    "b = int(32.9)"
   ]
  },
  {
   "cell_type": "code",
   "execution_count": 17,
   "metadata": {},
   "outputs": [
    {
     "output_type": "execute_result",
     "data": {
      "text/plain": [
       "32"
      ]
     },
     "metadata": {},
     "execution_count": 17
    }
   ],
   "source": [
    "b"
   ]
  },
  {
   "cell_type": "code",
   "execution_count": 18,
   "metadata": {},
   "outputs": [
    {
     "output_type": "execute_result",
     "data": {
      "text/plain": [
       "int"
      ]
     },
     "metadata": {},
     "execution_count": 18
    }
   ],
   "source": [
    "type(b)"
   ]
  },
  {
   "cell_type": "code",
   "execution_count": 19,
   "metadata": {},
   "outputs": [
    {
     "output_type": "error",
     "ename": "ValueError",
     "evalue": "invalid literal for int() with base 10: 'fg'",
     "traceback": [
      "\u001b[0;31m---------------------------------------------------------------------------\u001b[0m",
      "\u001b[0;31mValueError\u001b[0m                                Traceback (most recent call last)",
      "\u001b[0;32m<ipython-input-19-5d0acbb0e372>\u001b[0m in \u001b[0;36m<module>\u001b[0;34m\u001b[0m\n\u001b[0;32m----> 1\u001b[0;31m \u001b[0mb\u001b[0m \u001b[0;34m=\u001b[0m \u001b[0mint\u001b[0m\u001b[0;34m(\u001b[0m\u001b[0;34m'fg'\u001b[0m\u001b[0;34m)\u001b[0m\u001b[0;34m\u001b[0m\u001b[0;34m\u001b[0m\u001b[0m\n\u001b[0m",
      "\u001b[0;31mValueError\u001b[0m: invalid literal for int() with base 10: 'fg'"
     ]
    }
   ],
   "source": [
    "b = int('fg')"
   ]
  },
  {
   "cell_type": "code",
   "execution_count": 20,
   "metadata": {},
   "outputs": [
    {
     "output_type": "stream",
     "name": "stdout",
     "text": [
      "Келесі операторлар\ntry-exception-нан кейінгі операторлар\n"
     ]
    }
   ],
   "source": [
    "try:\n",
    "    a = input(\"Санды енгізіңіз: \")\n",
    "    a = int(a)\n",
    "    12 / a\n",
    "    print(\"Келесі операторлар\")\n",
    "except ZeroDivisionError as var1:\n",
    "    print(\"Нөлге бөлуге болмайды\")\n",
    "    print(var1)\n",
    "except ValueError:\n",
    "    print(\"Санды енгізуде қате кетте\")\n",
    "\n",
    "print(\"try-exception-нан кейінгі операторлар\")"
   ]
  },
  {
   "cell_type": "code",
   "execution_count": 21,
   "metadata": {},
   "outputs": [
    {
     "output_type": "stream",
     "name": "stdout",
     "text": [
      "Нөлге бөлуге болмайды\ndivision by zero\ntry-exception-нан кейінгі операторлар\n"
     ]
    }
   ],
   "source": [
    "try:\n",
    "    a = input(\"Санды енгізіңіз: \")\n",
    "    a = int(a)\n",
    "    12 / a\n",
    "    print(\"Келесі операторлар\")\n",
    "except ZeroDivisionError as var1:\n",
    "    print(\"Нөлге бөлуге болмайды\")\n",
    "    print(var1)\n",
    "except ValueError:\n",
    "    print(\"Санды енгізуде қате кетте\")\n",
    "\n",
    "print(\"try-exception-нан кейінгі операторлар\")"
   ]
  },
  {
   "cell_type": "code",
   "execution_count": 22,
   "metadata": {},
   "outputs": [
    {
     "output_type": "stream",
     "name": "stdout",
     "text": [
      "Санды енгізуде қате кетте\ntry-exception-нан кейінгі операторлар\n"
     ]
    }
   ],
   "source": [
    "try:\n",
    "    a = input(\"Санды енгізіңіз: \")\n",
    "    a = int(a)\n",
    "    12 / a\n",
    "    print(\"Келесі операторлар\")\n",
    "except ZeroDivisionError as var1:\n",
    "    print(\"Нөлге бөлуге болмайды\")\n",
    "    print(var1)\n",
    "except ValueError:\n",
    "    print(\"Санды енгізуде қате кетті\")\n",
    "\n",
    "print(\"try-exception-нан кейінгі операторлар\")"
   ]
  },
  {
   "cell_type": "code",
   "execution_count": 23,
   "metadata": {},
   "outputs": [
    {
     "output_type": "stream",
     "name": "stdout",
     "text": [
      "Нөлге бөлуге болмайды\ndivision by zero\nМіндетті түрде орындалатын программа бөлігі\ntry-exception-нан кейінгі операторлар\n"
     ]
    }
   ],
   "source": [
    "try:\n",
    "    a = input(\"Санды енгізіңіз: \")\n",
    "    a = int(a)\n",
    "    12 / a\n",
    "    print(\"Келесі операторлар\")\n",
    "except ZeroDivisionError as var1:\n",
    "    print(\"Нөлге бөлуге болмайды\")\n",
    "    print(var1)\n",
    "except ValueError:\n",
    "    print(\"Санды енгізуде қате кетті\")\n",
    "finally:\n",
    "    print(\"Міндетті түрде орындалатын программа бөлігі\")\n",
    "\n",
    "print(\"try-exception-нан кейінгі операторлар\")"
   ]
  },
  {
   "cell_type": "code",
   "execution_count": 24,
   "metadata": {},
   "outputs": [
    {
     "output_type": "stream",
     "name": "stdout",
     "text": [
      "Санды енгізуде қате кетті\nМіндетті түрде орындалатын программа бөлігі\ntry-exception-нан кейінгі операторлар\n"
     ]
    }
   ],
   "source": [
    "try:\n",
    "    a = input(\"Санды енгізіңіз: \")\n",
    "    a = int(a)\n",
    "    12 / a\n",
    "    print(\"Келесі операторлар\")\n",
    "except ZeroDivisionError as var1:\n",
    "    print(\"Нөлге бөлуге болмайды\")\n",
    "    print(var1)\n",
    "except ValueError:\n",
    "    print(\"Санды енгізуде қате кетті\")\n",
    "finally:\n",
    "    print(\"Міндетті түрде орындалатын программа бөлігі\")\n",
    "\n",
    "print(\"try-exception-нан кейінгі операторлар\")"
   ]
  },
  {
   "cell_type": "code",
   "execution_count": 25,
   "metadata": {},
   "outputs": [
    {
     "output_type": "stream",
     "name": "stdout",
     "text": [
      "Келесі операторлар\nМіндетті түрде орындалатын программа бөлігі\ntry-exception-нан кейінгі операторлар\n"
     ]
    }
   ],
   "source": [
    "try:\n",
    "    a = input(\"Санды енгізіңіз: \")\n",
    "    a = int(a)\n",
    "    12 / a\n",
    "    print(\"Келесі операторлар\")\n",
    "except ZeroDivisionError as var1:\n",
    "    print(\"Нөлге бөлуге болмайды\")\n",
    "    print(var1)\n",
    "except ValueError:\n",
    "    print(\"Санды енгізуде қате кетті\")\n",
    "finally:\n",
    "    print(\"Міндетті түрде орындалатын программа бөлігі\")\n",
    "\n",
    "print(\"try-exception-нан кейінгі операторлар\")"
   ]
  },
  {
   "cell_type": "code",
   "execution_count": 26,
   "metadata": {},
   "outputs": [
    {
     "output_type": "stream",
     "name": "stdout",
     "text": [
      "Келесі операторлар\nМіндетті түрде орындалатын программа бөлігі\ntry-exception-нан кейінгі операторлар\n"
     ]
    }
   ],
   "source": [
    "try:\n",
    "    a = int(input(\"Санды енгізіңіз: \"))\n",
    "    \n",
    "    12 / a\n",
    "    print(\"Келесі операторлар\")\n",
    "except ZeroDivisionError as var1:\n",
    "    print(\"Нөлге бөлуге болмайды\")\n",
    "    print(var1)\n",
    "except ValueError:\n",
    "    print(\"Санды енгізуде қате кетті\")\n",
    "finally:\n",
    "    print(\"Міндетті түрде орындалатын программа бөлігі\")\n",
    "\n",
    "print(\"try-exception-нан кейінгі операторлар\")"
   ]
  },
  {
   "cell_type": "code",
   "execution_count": 29,
   "metadata": {},
   "outputs": [
    {
     "output_type": "stream",
     "name": "stdout",
     "text": [
      "Дұрыс сан енгізілмеді.\n",
      "Қайта енгізіңіз\n",
      "Дұрыс сан енгізілмеді.\n",
      "Қайта енгізіңіз\n",
      "Келесі операторлар\n",
      "sum = 170\n"
     ]
    }
   ],
   "source": [
    "sum = 0\n",
    "while True:\n",
    "    try:\n",
    "        a = input(\"Бүтін сан енгізіңіз немесе шығу үшін n символын енгізіңіз:\")\n",
    "        \n",
    "        if a == 'n':\n",
    "            break\n",
    "        else:\n",
    "            a = int(a)\n",
    "            sum += a\n",
    "    except ValueError:\n",
    "        print(\"Дұрыс сан енгізілмеді.\")\n",
    "        print(\"Қайта енгізіңіз\")\n",
    "        continue\n",
    "\n",
    "print(\"Келесі операторлар\")\n",
    "print(f\"sum = {sum}\")\n"
   ]
  },
  {
   "source": [
    "# Функциялар"
   ],
   "cell_type": "markdown",
   "metadata": {}
  },
  {
   "cell_type": "code",
   "execution_count": 30,
   "metadata": {},
   "outputs": [],
   "source": [
    "def test():\n",
    "    print(\"Test функциясының денесі\")"
   ]
  },
  {
   "cell_type": "code",
   "execution_count": 31,
   "metadata": {},
   "outputs": [
    {
     "output_type": "stream",
     "name": "stdout",
     "text": [
      "Test функциясының денесі\n"
     ]
    }
   ],
   "source": [
    "test()"
   ]
  },
  {
   "cell_type": "code",
   "execution_count": 32,
   "metadata": {},
   "outputs": [
    {
     "output_type": "execute_result",
     "data": {
      "text/plain": [
       "<function __main__.test()>"
      ]
     },
     "metadata": {},
     "execution_count": 32
    }
   ],
   "source": [
    "test"
   ]
  },
  {
   "cell_type": "code",
   "execution_count": 33,
   "metadata": {},
   "outputs": [
    {
     "output_type": "execute_result",
     "data": {
      "text/plain": [
       "function"
      ]
     },
     "metadata": {},
     "execution_count": 33
    }
   ],
   "source": [
    "type(test)"
   ]
  },
  {
   "cell_type": "code",
   "execution_count": 34,
   "metadata": {},
   "outputs": [],
   "source": [
    "f = test"
   ]
  },
  {
   "cell_type": "code",
   "execution_count": 35,
   "metadata": {},
   "outputs": [
    {
     "output_type": "execute_result",
     "data": {
      "text/plain": [
       "<function __main__.test()>"
      ]
     },
     "metadata": {},
     "execution_count": 35
    }
   ],
   "source": [
    "f"
   ]
  },
  {
   "cell_type": "code",
   "execution_count": 36,
   "metadata": {},
   "outputs": [
    {
     "output_type": "stream",
     "name": "stdout",
     "text": [
      "Test функциясының денесі\n"
     ]
    }
   ],
   "source": [
    "f()"
   ]
  },
  {
   "cell_type": "code",
   "execution_count": 37,
   "metadata": {},
   "outputs": [
    {
     "output_type": "stream",
     "name": "stdout",
     "text": [
      "Test функциясының денесі\n"
     ]
    }
   ],
   "source": [
    "test()"
   ]
  },
  {
   "cell_type": "code",
   "execution_count": 38,
   "metadata": {},
   "outputs": [],
   "source": [
    "l = [2, 3, 4, test, \"spam\"]"
   ]
  },
  {
   "cell_type": "code",
   "execution_count": 39,
   "metadata": {},
   "outputs": [
    {
     "output_type": "execute_result",
     "data": {
      "text/plain": [
       "<function __main__.test()>"
      ]
     },
     "metadata": {},
     "execution_count": 39
    }
   ],
   "source": [
    "l[3]"
   ]
  },
  {
   "cell_type": "code",
   "execution_count": 40,
   "metadata": {},
   "outputs": [
    {
     "output_type": "stream",
     "name": "stdout",
     "text": [
      "Test функциясының денесі\n"
     ]
    }
   ],
   "source": [
    "l[3]()"
   ]
  },
  {
   "cell_type": "code",
   "execution_count": 42,
   "metadata": {},
   "outputs": [
    {
     "output_type": "stream",
     "name": "stdout",
     "text": [
      "90\n"
     ]
    }
   ],
   "source": [
    "def double():\n",
    "    \n",
    "    x = 12\n",
    "    x += 2\n",
    "\n",
    "x = 90\n",
    "double()\n",
    "print(x)\n"
   ]
  },
  {
   "cell_type": "code",
   "execution_count": 43,
   "metadata": {},
   "outputs": [
    {
     "output_type": "stream",
     "name": "stdout",
     "text": [
      "14\n"
     ]
    }
   ],
   "source": [
    "def double():\n",
    "    global x\n",
    "    x = 12\n",
    "    x += 2\n",
    "\n",
    "x = 90\n",
    "double()\n",
    "print(x)\n"
   ]
  },
  {
   "cell_type": "code",
   "execution_count": 44,
   "metadata": {},
   "outputs": [],
   "source": [
    "def double(x):\n",
    "    x *= 2\n",
    "    return x\n",
    "    "
   ]
  },
  {
   "cell_type": "code",
   "execution_count": 45,
   "metadata": {},
   "outputs": [
    {
     "output_type": "execute_result",
     "data": {
      "text/plain": [
       "6"
      ]
     },
     "metadata": {},
     "execution_count": 45
    }
   ],
   "source": [
    "double(3)"
   ]
  },
  {
   "cell_type": "code",
   "execution_count": 46,
   "metadata": {},
   "outputs": [],
   "source": [
    "a = double(4)"
   ]
  },
  {
   "cell_type": "code",
   "execution_count": 47,
   "metadata": {},
   "outputs": [
    {
     "output_type": "execute_result",
     "data": {
      "text/plain": [
       "8"
      ]
     },
     "metadata": {},
     "execution_count": 47
    }
   ],
   "source": [
    "a"
   ]
  },
  {
   "cell_type": "code",
   "execution_count": 48,
   "metadata": {},
   "outputs": [],
   "source": [
    "def test3(a, b, c):\n",
    "    return (a,b,c)"
   ]
  },
  {
   "cell_type": "code",
   "execution_count": 49,
   "metadata": {},
   "outputs": [
    {
     "output_type": "execute_result",
     "data": {
      "text/plain": [
       "(2, 3, 4)"
      ]
     },
     "metadata": {},
     "execution_count": 49
    }
   ],
   "source": [
    "test3(2,3,4)"
   ]
  },
  {
   "cell_type": "code",
   "execution_count": 51,
   "metadata": {},
   "outputs": [
    {
     "output_type": "execute_result",
     "data": {
      "text/plain": [
       "<function __main__.<lambda>(x)>"
      ]
     },
     "metadata": {},
     "execution_count": 51
    }
   ],
   "source": [
    "lambda x : x*2"
   ]
  },
  {
   "cell_type": "code",
   "execution_count": 52,
   "metadata": {},
   "outputs": [],
   "source": [
    "f = lambda x : x*2"
   ]
  },
  {
   "cell_type": "code",
   "execution_count": 53,
   "metadata": {},
   "outputs": [
    {
     "output_type": "execute_result",
     "data": {
      "text/plain": [
       "4"
      ]
     },
     "metadata": {},
     "execution_count": 53
    }
   ],
   "source": [
    "f(2)"
   ]
  },
  {
   "cell_type": "code",
   "execution_count": null,
   "metadata": {},
   "outputs": [],
   "source": []
  }
 ]
}